{
 "cells": [
  {
   "cell_type": "markdown",
   "metadata": {},
   "source": [
    "# Pluto's Orbit, and Validating Kepler's Second Law\n",
    "\n",
    "## Eriel Wiston and Alexandra Maycock"
   ]
  },
  {
   "cell_type": "markdown",
   "metadata": {},
   "source": [
    "## Q: Is Kepler's Second Law satisfied when tested against Pluto's highly eccentric orbit?\n",
    "Kepler's Second Law of Planetary Motion states that for each equivalent time division of an object's orbit, each sector swept out by the object, from the center of rotation, has an equal area. For a visual please see: https://kids.britannica.com/students/assembly/view/90830. For example, if a planet is revolving around the sun and a line is drawn from the planet to the sun on \"day 0\" of its orbit and \"day 5\" of its orbit, the area between those two radii and the path the planet traveled should be identical to the sector drawn in the same manner from \"day 5\" to \"day 10\". \n",
    "\n",
    "Our model seeks to validate this law by first modeling the orbit of Pluto and then dividing that orbit into sectors and estimating the area of the sectors using a triangle approximation. Pluto was chosen due to its highly eccentric orbit, which makes this priciple harder to visualize and thus in need of mathematical verification. "
   ]
  },
  {
   "cell_type": "markdown",
   "metadata": {},
   "source": [
    "----\n",
    "## Method:\n",
    "Preparing the notebook."
   ]
  },
  {
   "cell_type": "code",
   "execution_count": 77,
   "metadata": {},
   "outputs": [],
   "source": [
    "# Configure Jupyter so figures appear in the notebook\n",
    "%matplotlib inline\n",
    "\n",
    "# Configure Jupyter to display the assigned value after an assignment\n",
    "%config InteractiveShell.ast_node_interactivity='last_expr_or_assign'\n",
    "\n",
    "# import functions from the modsim.py module\n",
    "from modsim import *"
   ]
  },
  {
   "cell_type": "code",
   "execution_count": 78,
   "metadata": {},
   "outputs": [
    {
     "data": {
      "text/html": [
       "meter"
      ],
      "text/latex": [
       "$meter$"
      ],
      "text/plain": [
       "<Unit('meter')>"
      ]
     },
     "execution_count": 78,
     "metadata": {},
     "output_type": "execute_result"
    }
   ],
   "source": [
    "# Here are the units we'll need\n",
    "\n",
    "s = UNITS.second\n",
    "N = UNITS.newton\n",
    "kg = UNITS.kilogram\n",
    "m = UNITS.meter"
   ]
  },
  {
   "cell_type": "markdown",
   "metadata": {},
   "source": [
    "For this model, the sun is considered to remain at the origin on a rectangular plane. Below are the initial conditions, which initialize Pluto's radius and velocity at perihelion (the point at which its distance from the sun is smallest). All\n",
    "other positions and velocities are initialized to 0, and thus pluto begins on the x axis."
   ]
  },
  {
   "cell_type": "code",
   "execution_count": 79,
   "metadata": {},
   "outputs": [
    {
     "data": {
      "text/html": [
       "<div>\n",
       "<style scoped>\n",
       "    .dataframe tbody tr th:only-of-type {\n",
       "        vertical-align: middle;\n",
       "    }\n",
       "\n",
       "    .dataframe tbody tr th {\n",
       "        vertical-align: top;\n",
       "    }\n",
       "\n",
       "    .dataframe thead th {\n",
       "        text-align: right;\n",
       "    }\n",
       "</style>\n",
       "<table border=\"1\" class=\"dataframe\">\n",
       "  <thead>\n",
       "    <tr style=\"text-align: right;\">\n",
       "      <th></th>\n",
       "      <th>values</th>\n",
       "    </tr>\n",
       "  </thead>\n",
       "  <tbody>\n",
       "    <tr>\n",
       "      <th>x</th>\n",
       "      <td>4436820000000.0 meter</td>\n",
       "    </tr>\n",
       "    <tr>\n",
       "      <th>y</th>\n",
       "      <td>0.0 meter / second</td>\n",
       "    </tr>\n",
       "    <tr>\n",
       "      <th>vx</th>\n",
       "      <td>0.0 meter / second</td>\n",
       "    </tr>\n",
       "    <tr>\n",
       "      <th>vy</th>\n",
       "      <td>-6100.0 meter / second</td>\n",
       "    </tr>\n",
       "  </tbody>\n",
       "</table>\n",
       "</div>"
      ],
      "text/plain": [
       "x      4436820000000.0 meter\n",
       "y         0.0 meter / second\n",
       "vx        0.0 meter / second\n",
       "vy    -6100.0 meter / second\n",
       "dtype: object"
      ]
     },
     "execution_count": 79,
     "metadata": {},
     "output_type": "execute_result"
    }
   ],
   "source": [
    "r_0 = 4436.82e9 * m\n",
    "v_0 = -6100 * m/s\n",
    "\n",
    "init = State(x = r_0,\n",
    "             y = 0 * m/s,\n",
    "             vx = 0 * m / s,\n",
    "             vy = v_0)"
   ]
  },
  {
   "cell_type": "markdown",
   "metadata": {},
   "source": [
    "Now, we make the system object, which contains Pluto's radius, the sun's radius, the combined radius of Pluto and the sun, the State object, the masses of Pluto and the sun, the start and end time, and the\n",
    "gravitational constant."
   ]
  },
  {
   "cell_type": "code",
   "execution_count": 80,
   "metadata": {},
   "outputs": [
    {
     "data": {
      "text/html": [
       "<div>\n",
       "<style scoped>\n",
       "    .dataframe tbody tr th:only-of-type {\n",
       "        vertical-align: middle;\n",
       "    }\n",
       "\n",
       "    .dataframe tbody tr th {\n",
       "        vertical-align: top;\n",
       "    }\n",
       "\n",
       "    .dataframe thead th {\n",
       "        text-align: right;\n",
       "    }\n",
       "</style>\n",
       "<table border=\"1\" class=\"dataframe\">\n",
       "  <thead>\n",
       "    <tr style=\"text-align: right;\">\n",
       "      <th></th>\n",
       "      <th>values</th>\n",
       "    </tr>\n",
       "  </thead>\n",
       "  <tbody>\n",
       "    <tr>\n",
       "      <th>init</th>\n",
       "      <td>x      4436820000000.0 meter\n",
       "y         0.0 met...</td>\n",
       "    </tr>\n",
       "    <tr>\n",
       "      <th>G</th>\n",
       "      <td>6.674e-11 meter ** 2 * newton / kilogram ** 2</td>\n",
       "    </tr>\n",
       "    <tr>\n",
       "      <th>m1</th>\n",
       "      <td>1.989e+30 kilogram</td>\n",
       "    </tr>\n",
       "    <tr>\n",
       "      <th>m2</th>\n",
       "      <td>1.303e+22 kilogram</td>\n",
       "    </tr>\n",
       "    <tr>\n",
       "      <th>t_0</th>\n",
       "      <td>0 second</td>\n",
       "    </tr>\n",
       "    <tr>\n",
       "      <th>t_end</th>\n",
       "      <td>7820000000 second</td>\n",
       "    </tr>\n",
       "    <tr>\n",
       "      <th>slices</th>\n",
       "      <td>2000</td>\n",
       "    </tr>\n",
       "  </tbody>\n",
       "</table>\n",
       "</div>"
      ],
      "text/plain": [
       "init      x      4436820000000.0 meter\n",
       "y         0.0 met...\n",
       "G             6.674e-11 meter ** 2 * newton / kilogram ** 2\n",
       "m1                                       1.989e+30 kilogram\n",
       "m2                                       1.303e+22 kilogram\n",
       "t_0                                                0 second\n",
       "t_end                                     7820000000 second\n",
       "slices                                                 2000\n",
       "dtype: object"
      ]
     },
     "execution_count": 80,
     "metadata": {},
     "output_type": "execute_result"
    }
   ],
   "source": [
    "r_pluto = 1187000 * m\n",
    "r_sun = 695.508e6 * m\n",
    "\n",
    "system = System(init=init,\n",
    "                G=6.674e-11 * N / kg**2 * m**2,\n",
    "                m1=1.989e30 * kg,\n",
    "                m2=0.01303e24 * kg,\n",
    "                t_0=0 * s,\n",
    "                t_end=7820000000 * s,\n",
    "                slices = 2000)"
   ]
  },
  {
   "cell_type": "markdown",
   "metadata": {},
   "source": [
    "This function computes the force of gravity, using universal gravitation."
   ]
  },
  {
   "cell_type": "code",
   "execution_count": 81,
   "metadata": {},
   "outputs": [],
   "source": [
    "def universal_gravitation(state, system):\n",
    "    \"\"\"Computes gravitational force.\n",
    "    \n",
    "    state: State object with distance r\n",
    "    system: System object with m1, m2, and G\n",
    "    \"\"\"\n",
    "    x, y, vx, vy = state\n",
    "    unpack(system)\n",
    "    r = Vector(x, y)\n",
    "    v = Vector(vx, vy)\n",
    " \n",
    "    force_mag = G * m1 * m2 / r.mag**2\n",
    "    force = r.hat() * force_mag \n",
    "   # force = Vector(G*m1*m2/x**2, G*m1*m2/y**2)\n",
    "    return force"
   ]
  },
  {
   "cell_type": "code",
   "execution_count": 82,
   "metadata": {},
   "outputs": [
    {
     "data": {
      "text/html": [
       "[8.78661872e+16 0.00000000e+00] newton"
      ],
      "text/latex": [
       "$[8.78661872e+16 0.00000000e+00] newton$"
      ],
      "text/plain": [
       "<Quantity([8.78661872e+16 0.00000000e+00], 'newton')>"
      ]
     },
     "execution_count": 82,
     "metadata": {},
     "output_type": "execute_result"
    }
   ],
   "source": [
    "#Testing the universal gravitation function\n",
    "universal_gravitation(init, system)"
   ]
  },
  {
   "cell_type": "markdown",
   "metadata": {},
   "source": [
    "The slope function calculates velocity and acceleration for each time step in our orbit"
   ]
  },
  {
   "cell_type": "code",
   "execution_count": 83,
   "metadata": {},
   "outputs": [],
   "source": [
    "def slope_func(state, t, system):\n",
    "    \"\"\"Compute derivatives of the state.\n",
    "    \n",
    "    state: position, velocity\n",
    "    t: time\n",
    "    system: System object containing `g`\n",
    "    \n",
    "    returns: derivatives of y and v\n",
    "    \"\"\"\n",
    "    x, y, vx, vy = state\n",
    "    unpack(system)    \n",
    "\n",
    "    force_x, force_y = universal_gravitation(state, system)\n",
    "    dxdt = vx\n",
    "    dydt = vy\n",
    "    dvxdt = -force_x / m2\n",
    "    dvydt = -force_y / m2\n",
    "    \n",
    "    return dxdt, dydt, dvxdt, dvydt"
   ]
  },
  {
   "cell_type": "code",
   "execution_count": 84,
   "metadata": {},
   "outputs": [
    {
     "data": {
      "text/plain": [
       "(<Quantity(0.0, 'meter / second')>,\n",
       " <Quantity(-6100.0, 'meter / second')>,\n",
       " <Quantity(-6.743375839653671e-06, 'newton / kilogram')>,\n",
       " <Quantity(-0.0, 'newton / kilogram')>)"
      ]
     },
     "execution_count": 84,
     "metadata": {},
     "output_type": "execute_result"
    }
   ],
   "source": [
    "#testing the slope function\n",
    "slope_func(init, 0, system)"
   ]
  },
  {
   "cell_type": "markdown",
   "metadata": {},
   "source": [
    "Now to run the simulation of the orbit."
   ]
  },
  {
   "cell_type": "code",
   "execution_count": 85,
   "metadata": {},
   "outputs": [
    {
     "data": {
      "text/html": [
       "<div>\n",
       "<style scoped>\n",
       "    .dataframe tbody tr th:only-of-type {\n",
       "        vertical-align: middle;\n",
       "    }\n",
       "\n",
       "    .dataframe tbody tr th {\n",
       "        vertical-align: top;\n",
       "    }\n",
       "\n",
       "    .dataframe thead th {\n",
       "        text-align: right;\n",
       "    }\n",
       "</style>\n",
       "<table border=\"1\" class=\"dataframe\">\n",
       "  <thead>\n",
       "    <tr style=\"text-align: right;\">\n",
       "      <th></th>\n",
       "      <th>values</th>\n",
       "    </tr>\n",
       "  </thead>\n",
       "  <tbody>\n",
       "    <tr>\n",
       "      <th>sol</th>\n",
       "      <td>None</td>\n",
       "    </tr>\n",
       "    <tr>\n",
       "      <th>t_events</th>\n",
       "      <td>[]</td>\n",
       "    </tr>\n",
       "    <tr>\n",
       "      <th>nfev</th>\n",
       "      <td>149</td>\n",
       "    </tr>\n",
       "    <tr>\n",
       "      <th>njev</th>\n",
       "      <td>0</td>\n",
       "    </tr>\n",
       "    <tr>\n",
       "      <th>nlu</th>\n",
       "      <td>0</td>\n",
       "    </tr>\n",
       "    <tr>\n",
       "      <th>status</th>\n",
       "      <td>0</td>\n",
       "    </tr>\n",
       "    <tr>\n",
       "      <th>message</th>\n",
       "      <td>The solver successfully reached the end of the...</td>\n",
       "    </tr>\n",
       "    <tr>\n",
       "      <th>success</th>\n",
       "      <td>True</td>\n",
       "    </tr>\n",
       "  </tbody>\n",
       "</table>\n",
       "</div>"
      ],
      "text/plain": [
       "sol                                                      None\n",
       "t_events                                                   []\n",
       "nfev                                                      149\n",
       "njev                                                        0\n",
       "nlu                                                         0\n",
       "status                                                      0\n",
       "message     The solver successfully reached the end of the...\n",
       "success                                                  True\n",
       "dtype: object"
      ]
     },
     "execution_count": 85,
     "metadata": {},
     "output_type": "execute_result"
    }
   ],
   "source": [
    "#Here, we test all the functions together\n",
    "\n",
    "#defining the amount of time in each sector of the orbit\n",
    "dt = (system.t_end - system.t_0)/ system.slices\n",
    "\n",
    "#creating an array of times for the ODE solver to sun the simulation at. \n",
    "#Using this method ensures that data is present for the star and end times of each sector.\n",
    "times = (linrange(system.t_0, system.t_end, dt))\n",
    "\n",
    "#Run the simulation\n",
    "results, details = run_ode_solver(system, slope_func, t_eval = times, method='RK23')\n",
    "\n",
    "#It worked\n",
    "details"
   ]
  },
  {
   "cell_type": "markdown",
   "metadata": {},
   "source": [
    "The position and velocites are retuned by this simulation."
   ]
  },
  {
   "cell_type": "code",
   "execution_count": 86,
   "metadata": {},
   "outputs": [
    {
     "data": {
      "text/html": [
       "<div>\n",
       "<style scoped>\n",
       "    .dataframe tbody tr th:only-of-type {\n",
       "        vertical-align: middle;\n",
       "    }\n",
       "\n",
       "    .dataframe tbody tr th {\n",
       "        vertical-align: top;\n",
       "    }\n",
       "\n",
       "    .dataframe thead th {\n",
       "        text-align: right;\n",
       "    }\n",
       "</style>\n",
       "<table border=\"1\" class=\"dataframe\">\n",
       "  <thead>\n",
       "    <tr style=\"text-align: right;\">\n",
       "      <th></th>\n",
       "      <th>x</th>\n",
       "      <th>y</th>\n",
       "      <th>vx</th>\n",
       "      <th>vy</th>\n",
       "    </tr>\n",
       "  </thead>\n",
       "  <tbody>\n",
       "    <tr>\n",
       "      <th>0.0</th>\n",
       "      <td>4.436820e+12</td>\n",
       "      <td>0.000000e+00</td>\n",
       "      <td>0.000000</td>\n",
       "      <td>-6100.000000</td>\n",
       "    </tr>\n",
       "    <tr>\n",
       "      <th>3910000.0</th>\n",
       "      <td>4.436768e+12</td>\n",
       "      <td>-2.385091e+10</td>\n",
       "      <td>-26.366423</td>\n",
       "      <td>-6099.929126</td>\n",
       "    </tr>\n",
       "    <tr>\n",
       "      <th>7820000.0</th>\n",
       "      <td>4.436614e+12</td>\n",
       "      <td>-4.770126e+10</td>\n",
       "      <td>-52.731783</td>\n",
       "      <td>-6099.716470</td>\n",
       "    </tr>\n",
       "    <tr>\n",
       "      <th>11730000.0</th>\n",
       "      <td>4.436356e+12</td>\n",
       "      <td>-7.155051e+10</td>\n",
       "      <td>-79.095022</td>\n",
       "      <td>-6099.362067</td>\n",
       "    </tr>\n",
       "    <tr>\n",
       "      <th>15640000.0</th>\n",
       "      <td>4.435995e+12</td>\n",
       "      <td>-9.539809e+10</td>\n",
       "      <td>-105.455079</td>\n",
       "      <td>-6098.865974</td>\n",
       "    </tr>\n",
       "  </tbody>\n",
       "</table>\n",
       "</div>"
      ],
      "text/plain": [
       "                       x             y          vx           vy\n",
       "0.0         4.436820e+12  0.000000e+00    0.000000 -6100.000000\n",
       "3910000.0   4.436768e+12 -2.385091e+10  -26.366423 -6099.929126\n",
       "7820000.0   4.436614e+12 -4.770126e+10  -52.731783 -6099.716470\n",
       "11730000.0  4.436356e+12 -7.155051e+10  -79.095022 -6099.362067\n",
       "15640000.0  4.435995e+12 -9.539809e+10 -105.455079 -6098.865974"
      ]
     },
     "execution_count": 86,
     "metadata": {},
     "output_type": "execute_result"
    }
   ],
   "source": [
    "#the first six time steps\n",
    "results.head()"
   ]
  },
  {
   "cell_type": "markdown",
   "metadata": {},
   "source": [
    "We do not expect Pluto to collide with the sun in its regular orbit, so our final time should be a full year, which is how many seconds we started with"
   ]
  },
  {
   "cell_type": "code",
   "execution_count": 87,
   "metadata": {},
   "outputs": [
    {
     "data": {
      "text/html": [
       "7816090000.0 second"
      ],
      "text/latex": [
       "$7816090000.0 second$"
      ],
      "text/plain": [
       "<Quantity(7816090000.0, 'second')>"
      ]
     },
     "execution_count": 87,
     "metadata": {},
     "output_type": "execute_result"
    }
   ],
   "source": [
    "t_final = get_last_label(results) * s"
   ]
  },
  {
   "cell_type": "markdown",
   "metadata": {},
   "source": [
    "Here is the orbit plotted on the xy-plane."
   ]
  },
  {
   "cell_type": "code",
   "execution_count": 88,
   "metadata": {},
   "outputs": [
    {
     "data": {
      "image/png": "[encoded data removed]",
      "text/plain": [
       "<Figure size 432x288 with 1 Axes>"
      ]
     },
     "metadata": {},
     "output_type": "display_data"
    }
   ],
   "source": [
    "#Our results are scaled to Earth days\n",
    "results.index /= 60 * 60 * 24\n",
    "\n",
    "#And to billions of kilometers, and plotted\n",
    "x = results.x / 1e12;\n",
    "y = results.y /1e12;\n",
    "plot(x, y)\n",
    "\n",
    "#Look! The sun is an orange star! Isn't that neato?\n",
    "plt.plot(0, 0, marker='*', markersize=7, color=\"orange\")\n",
    "\n",
    "decorate(xlabel='Horizontal Distance from sun (billion km)',\n",
    "         ylabel='Vertical Distance from sun (billion km)')"
   ]
  },
  {
   "cell_type": "markdown",
   "metadata": {},
   "source": [
    "Now that we have a representation of the orbit, we can divide it into secotors and calculate a the area of each one. We used trinangles to estimate this area as they are acruate eough estitamte of the area and use math that more directly uses the orbit data. THis avoids rounding and math errors."
   ]
  },
  {
   "cell_type": "code",
   "execution_count": 90,
   "metadata": {},
   "outputs": [
    {
     "data": {
      "text/html": [
       "<div>\n",
       "<style scoped>\n",
       "    .dataframe tbody tr th:only-of-type {\n",
       "        vertical-align: middle;\n",
       "    }\n",
       "\n",
       "    .dataframe tbody tr th {\n",
       "        vertical-align: top;\n",
       "    }\n",
       "\n",
       "    .dataframe thead th {\n",
       "        text-align: right;\n",
       "    }\n",
       "</style>\n",
       "<table border=\"1\" class=\"dataframe\">\n",
       "  <thead>\n",
       "    <tr style=\"text-align: right;\">\n",
       "      <th></th>\n",
       "      <th>values</th>\n",
       "    </tr>\n",
       "  </thead>\n",
       "  <tbody>\n",
       "    <tr>\n",
       "      <th>S</th>\n",
       "      <td>0</td>\n",
       "    </tr>\n",
       "    <tr>\n",
       "      <th>E</th>\n",
       "      <td>45.2546</td>\n",
       "    </tr>\n",
       "    <tr>\n",
       "      <th>A</th>\n",
       "      <td>4436820000000.0 dimensionless</td>\n",
       "    </tr>\n",
       "    <tr>\n",
       "      <th>B</th>\n",
       "      <td>4436832562882.295 dimensionless</td>\n",
       "    </tr>\n",
       "    <tr>\n",
       "      <th>C</th>\n",
       "      <td>2.3851e+10</td>\n",
       "    </tr>\n",
       "    <tr>\n",
       "      <th>SP</th>\n",
       "      <td>4448751763136.124 dimensionless</td>\n",
       "    </tr>\n",
       "    <tr>\n",
       "      <th>area</th>\n",
       "      <td>5.291109213451941e+22 dimensionless</td>\n",
       "    </tr>\n",
       "  </tbody>\n",
       "</table>\n",
       "</div>"
      ],
      "text/plain": [
       "S                                         0\n",
       "E                                   45.2546\n",
       "A             4436820000000.0 dimensionless\n",
       "B           4436832562882.295 dimensionless\n",
       "C                                2.3851e+10\n",
       "SP          4448751763136.124 dimensionless\n",
       "area    5.291109213451941e+22 dimensionless\n",
       "dtype: object"
      ]
     },
     "execution_count": 90,
     "metadata": {},
     "output_type": "execute_result"
    }
   ],
   "source": [
    "# creating a state to caluclate and analyze the triangular estimations of the sectors of the orbit.\n",
    "\n",
    "#start time of the sector\n",
    "S = results.index[0]\n",
    "\n",
    "#end time of the triangle\n",
    "E = results.index[1]\n",
    "\n",
    "#length of triangle side between sun and pluto's postion at the start time\n",
    "a_vec = Vector(results.x[results.index[0]], results.y[results.index[0]])\n",
    "A = a_vec.mag\n",
    "\n",
    "#length of triangle side between sun and pluto's postion at the end time\n",
    "b_vec = Vector(results.x[results.index[1]], results.y[results.index[1]])\n",
    "B = b_vec.mag\n",
    "\n",
    "#Length of triangle side between pluto's position at the start and end time\n",
    "C = sqrt((results.x[results.index[1]]-results.x[results.index[0]])**2 +(results.y[results.index[1]]-results.y[results.index[0]])**2 )\n",
    "\n",
    "#Calculating the semiperimeter of the triangle formed by A, B, and C.\n",
    "SP = (A+B+C)/2\n",
    "\n",
    "#Caluclating the area of the triangle using Heron's formula.\n",
    "area = sqrt(SP * (SP - A) * (SP - B) * (SP - C))\n",
    "\n",
    "#Creating state object\n",
    "state= State(S=S, E=E, A=A, B=B, C=C, SP=SP, area=area)"
   ]
  },
  {
   "cell_type": "markdown",
   "metadata": {},
   "source": [
    "The in intal sector infomation is fed into this fuction and the remaining sectors are determined and their details calculated and retunred in a table."
   ]
  },
  {
   "cell_type": "code",
   "execution_count": 97,
   "metadata": {},
   "outputs": [],
   "source": [
    "def area_of_sector(results,system,state):\n",
    "    \"\"\"Divide the orbit into sectors and create a triangle that estimetes\n",
    "    the area of each sector.\n",
    "    \n",
    "    results = postion and velocity infomation for a single complete orbit\n",
    "    system = the sytem used to retun results and containg the nuber of sectors\n",
    "    state = State object to old sector and triangle estimate information\n",
    "    \n",
    "    returns: a time frame with the presctibed information for each sector tiangle estimation.\n",
    "    \"\"\"\n",
    "    unpack(system)\n",
    "    \n",
    "    dt = (t_end-t_0)/slices\n",
    "      \n",
    "    frame = TimeFrame(columns = state.index)\n",
    "    frame.row[1] = state \n",
    "    \n",
    "    for t in linrange (1, slices):\n",
    "        frame.row[t+1] = one_sector(frame.row[t], t, system, results)\n",
    "        \n",
    "    return frame\n",
    "    "
   ]
  },
  {
   "cell_type": "markdown",
   "metadata": {},
   "source": [
    "The \"update function\" for the sectors which comptues a single row, an single sector of the orbit."
   ]
  },
  {
   "cell_type": "code",
   "execution_count": 100,
   "metadata": {},
   "outputs": [],
   "source": [
    "def one_sector(state, t , system, results):\n",
    "    \"\"\"Comutes the start time, end time, length of the three sides of the triangle estimation, the semiperimeter of the\n",
    "    trinagle, and the area of the triangle.\n",
    "    \n",
    "    state = the state being used to stoe sector information\n",
    "    t = a vairable passed by the area of a sector function, the sector being computed.\n",
    "    sytem = the sytem bject used to run the orbit simuoaion and containing the number of secotrs.\n",
    "    results = the postion and velocity data of an orbit\n",
    "    \n",
    "    retuns: specification of each sector.\n",
    "    \"\"\"\n",
    "    s, e, a, b, c, sp, area = state\n",
    "    unpack(system)\n",
    "    \n",
    "    #establish the time steps used in the orbit simulation \n",
    "    dt = (t_end-t_0)/slices/UNITS.s\n",
    "    \n",
    "    #record the times of the new sector\n",
    "    news = e\n",
    "    newe = news + dt\n",
    "    \n",
    "    #Take the magnitude of a vector from Pluto's postion at the start time and use it's magnitude as a side of the triangle.\n",
    "    a_vec = Vector(results.x[results.index[t-1]], results.y[results.index[t-1]])       \n",
    "    newa = a_vec.mag\n",
    "    \n",
    "    #Take the magnitude of a vector from Pluto's postion at the end time and use it's magnitude as a side of the triangle.\n",
    "    b_vec = Vector(results.x[results.index[t]], results.y[results.index[t]])\n",
    "    newb = b_vec.mag \n",
    "\n",
    "    #calclate the distance between the points used for the other two sides of the tiangle to define the third.\n",
    "    newc = sqrt((results.x[results.index[t]]-results.x[results.index[t-1]])**2 +(results.y[results.index[t]]-results.y[results.index[t-1]])**2 )\n",
    "    \n",
    "    #calculate semiperimeter and area\n",
    "    newsp = (newa + newb + newc)/2\n",
    "    newarea = sqrt(newsp * (newsp - newa) * (newsp - newb) * (newsp - newc))\n",
    "    \n",
    "    return State (S=news, E=newe, A=newa, B=newb, C=newc, SP=newsp, area=newarea)\n",
    "    \n",
    "    \n",
    "    "
   ]
  },
  {
   "cell_type": "markdown",
   "metadata": {},
   "source": [
    "---\n",
    "## Results:\n",
    "The simulation of the orbit has been broken down into sectors and their areas, here the returned information is presented."
   ]
  },
  {
   "cell_type": "markdown",
   "metadata": {},
   "source": [
    "The information for the first 6 sectors is shown. There are 2000 in total."
   ]
  },
  {
   "cell_type": "code",
   "execution_count": 98,
   "metadata": {},
   "outputs": [
    {
     "data": {
      "text/html": [
       "<div>\n",
       "<style scoped>\n",
       "    .dataframe tbody tr th:only-of-type {\n",
       "        vertical-align: middle;\n",
       "    }\n",
       "\n",
       "    .dataframe tbody tr th {\n",
       "        vertical-align: top;\n",
       "    }\n",
       "\n",
       "    .dataframe thead th {\n",
       "        text-align: right;\n",
       "    }\n",
       "</style>\n",
       "<table border=\"1\" class=\"dataframe\">\n",
       "  <thead>\n",
       "    <tr style=\"text-align: right;\">\n",
       "      <th></th>\n",
       "      <th>S</th>\n",
       "      <th>E</th>\n",
       "      <th>A</th>\n",
       "      <th>B</th>\n",
       "      <th>C</th>\n",
       "      <th>SP</th>\n",
       "      <th>area</th>\n",
       "    </tr>\n",
       "  </thead>\n",
       "  <tbody>\n",
       "    <tr>\n",
       "      <th>1</th>\n",
       "      <td>0</td>\n",
       "      <td>45.2546</td>\n",
       "      <td>4436820000000.0 dimensionless</td>\n",
       "      <td>4436832562882.295 dimensionless</td>\n",
       "      <td>2.385096e+10</td>\n",
       "      <td>4448751763136.124 dimensionless</td>\n",
       "      <td>5.291109213451941e+22 dimensionless</td>\n",
       "    </tr>\n",
       "    <tr>\n",
       "      <th>2</th>\n",
       "      <td>45.2546</td>\n",
       "      <td>3910045.2546296297 dimensionless</td>\n",
       "      <td>4436820000000.0 dimensionless</td>\n",
       "      <td>4436832562882.295 dimensionless</td>\n",
       "      <td>2.385096e+10</td>\n",
       "      <td>4448751763136.124 dimensionless</td>\n",
       "      <td>5.291109213451941e+22 dimensionless</td>\n",
       "    </tr>\n",
       "    <tr>\n",
       "      <th>3</th>\n",
       "      <td>3910045.2546296297 dimensionless</td>\n",
       "      <td>7820045.25462963 dimensionless</td>\n",
       "      <td>4436832562882.295 dimensionless</td>\n",
       "      <td>4436870269641.3 dimensionless</td>\n",
       "      <td>2.385086e+10</td>\n",
       "      <td>4448776843943.656 dimensionless</td>\n",
       "      <td>5.291109345233894e+22 dimensionless</td>\n",
       "    </tr>\n",
       "    <tr>\n",
       "      <th>4</th>\n",
       "      <td>7820045.25462963 dimensionless</td>\n",
       "      <td>11730045.25462963 dimensionless</td>\n",
       "      <td>4436870269641.3 dimensionless</td>\n",
       "      <td>4436933119957.921 dimensionless</td>\n",
       "      <td>2.385064e+10</td>\n",
       "      <td>4448827014049.048 dimensionless</td>\n",
       "      <td>5.291109436062589e+22 dimensionless</td>\n",
       "    </tr>\n",
       "    <tr>\n",
       "      <th>5</th>\n",
       "      <td>11730045.25462963 dimensionless</td>\n",
       "      <td>15640045.25462963 dimensionless</td>\n",
       "      <td>4436933119957.921 dimensionless</td>\n",
       "      <td>4437021101770.312 dimensionless</td>\n",
       "      <td>2.385031e+10</td>\n",
       "      <td>4448902267181.994 dimensionless</td>\n",
       "      <td>5.2911094505689865e+22 dimensionless</td>\n",
       "    </tr>\n",
       "  </tbody>\n",
       "</table>\n",
       "</div>"
      ],
      "text/plain": [
       "                                  S                                 E  \\\n",
       "1                                 0                           45.2546   \n",
       "2                           45.2546  3910045.2546296297 dimensionless   \n",
       "3  3910045.2546296297 dimensionless    7820045.25462963 dimensionless   \n",
       "4    7820045.25462963 dimensionless   11730045.25462963 dimensionless   \n",
       "5   11730045.25462963 dimensionless   15640045.25462963 dimensionless   \n",
       "\n",
       "                                 A                                B  \\\n",
       "1    4436820000000.0 dimensionless  4436832562882.295 dimensionless   \n",
       "2    4436820000000.0 dimensionless  4436832562882.295 dimensionless   \n",
       "3  4436832562882.295 dimensionless    4436870269641.3 dimensionless   \n",
       "4    4436870269641.3 dimensionless  4436933119957.921 dimensionless   \n",
       "5  4436933119957.921 dimensionless  4437021101770.312 dimensionless   \n",
       "\n",
       "              C                               SP  \\\n",
       "1  2.385096e+10  4448751763136.124 dimensionless   \n",
       "2  2.385096e+10  4448751763136.124 dimensionless   \n",
       "3  2.385086e+10  4448776843943.656 dimensionless   \n",
       "4  2.385064e+10  4448827014049.048 dimensionless   \n",
       "5  2.385031e+10  4448902267181.994 dimensionless   \n",
       "\n",
       "                                   area  \n",
       "1   5.291109213451941e+22 dimensionless  \n",
       "2   5.291109213451941e+22 dimensionless  \n",
       "3   5.291109345233894e+22 dimensionless  \n",
       "4   5.291109436062589e+22 dimensionless  \n",
       "5  5.2911094505689865e+22 dimensionless  "
      ]
     },
     "execution_count": 98,
     "metadata": {},
     "output_type": "execute_result"
    }
   ],
   "source": [
    "numbs = area_of_sector(results, system, state)\n",
    "numbs.head()"
   ]
  },
  {
   "cell_type": "code",
   "execution_count": 94,
   "metadata": {},
   "outputs": [
    {
     "data": {
      "image/png": "[encoded data removed]",
      "text/plain": [
       "<Figure size 432x288 with 1 Axes>"
      ]
     },
     "metadata": {},
     "output_type": "display_data"
    }
   ],
   "source": [
    "# Plotting the areas of each sector to compare them.\n",
    "plot(numbs.area)\n",
    "\n",
    "decorate(xlabel='Sector',\n",
    "         ylabel='Area of Triangle estimation of Sector',\n",
    "         title = 'Variance of Sector Areas')"
   ]
  },
  {
   "cell_type": "markdown",
   "metadata": {},
   "source": [
    "In order to determine how similar the areas of each sector are, we determined the largest possible difference between the areas of two sectors, known as the range. This value is computed below."
   ]
  },
  {
   "cell_type": "code",
   "execution_count": 95,
   "metadata": {},
   "outputs": [
    {
     "data": {
      "text/html": [
       "1.3512186410959477e+20 dimensionless"
      ],
      "text/latex": [
       "$1.3512186410959477e+20 dimensionless$"
      ],
      "text/plain": [
       "<Quantity(1.3512186410959477e+20, 'dimensionless')>"
      ]
     },
     "execution_count": 95,
     "metadata": {},
     "output_type": "execute_result"
    }
   ],
   "source": [
    "large = numbs.area.max()\n",
    "small = numbs.area.min()\n",
    "range = large - small"
   ]
  },
  {
   "cell_type": "markdown",
   "metadata": {},
   "source": [
    "This value, standing alone, seems quite large, standing at about 135 quintillion square meters, but taking into account that Pluto's distance from the sun at any point in time is trillions of meters away, the difference between areas may be relatively smaller than we think. In order to make sure, we calculate the approximate percent error of the sample of areas, taking the range and dividing it by the average sector area."
   ]
  },
  {
   "cell_type": "code",
   "execution_count": 96,
   "metadata": {},
   "outputs": [
    {
     "data": {
      "text/html": [
       "0.002551190416655728 dimensionless"
      ],
      "text/latex": [
       "$0.002551190416655728 dimensionless$"
      ],
      "text/plain": [
       "<Quantity(0.002551190416655728, 'dimensionless')>"
      ]
     },
     "execution_count": 96,
     "metadata": {},
     "output_type": "execute_result"
    }
   ],
   "source": [
    "avg= sum(numbs.area)/len(numbs.area)\n",
    "(large-small)/avg"
   ]
  },
  {
   "cell_type": "markdown",
   "metadata": {},
   "source": [
    "Now that we see the percent error is 0.00255, or about 0.255 percent, we are able to more easily tell that although the difference is large in number to our perception, it is not a statistically significant difference."
   ]
  },
  {
   "cell_type": "markdown",
   "metadata": {},
   "source": [
    "Because the difference is not statistically significant, we can reasonably conclude that Kepler's Second Law is correct for Pluto's orbit."
   ]
  },
  {
   "cell_type": "markdown",
   "metadata": {},
   "source": [
    "----\n",
    "## Interpretation:"
   ]
  },
  {
   "cell_type": "markdown",
   "metadata": {},
   "source": [
    "There were no significant failings of our model that impeded upon our success, but there were several sources of slight error along the way. One of these sources of error was our inexact computation of the areas of each sector; we used triangular approximations, rather than the true-to-form irregular elliptical sectors, to more easily calculate the orbital areas we needed. While this was far easier, both mathematically and computationally, this approximation did lead to round-off errors and the like. You'll notice in our final graph that the areas of the sectors trend upward: we attribute that behavior to this error, because as the orbit cycles through, the rounded ends of the orbit that we do not capture in our area calculation also vary in size. We cannot account for this change in our calculation, and so the orbital areas appear to get bigger while in reality the rounded areas we do not capture grow smaller.\n",
    "\n",
    "The role of iteration in our modeling process was a continual one: several portions of our code depended on constant reworkings in order to eventually come up with an executable product. For instance, the functions in which we computed and outputted area were made via iterative processes, because we had initially attempted the more exact, yet far more difficult, calculation of the elliptical sectors, but when we found that to be too challenging, we quickly revised the function several times over."
   ]
  },
  {
   "cell_type": "code",
   "execution_count": null,
   "metadata": {},
   "outputs": [],
   "source": []
  }
 ],
 "metadata": {
  "kernelspec": {
   "display_name": "Python 3",
   "language": "python",
   "name": "python3"
  },
  "language_info": {
   "codemirror_mode": {
    "name": "ipython",
    "version": 3
   },
   "file_extension": ".py",
   "mimetype": "text/x-python",
   "name": "python",
   "nbconvert_exporter": "python",
   "pygments_lexer": "ipython3",
   "version": "3.6.6"
  }
 },
 "nbformat": 4,
 "nbformat_minor": 2
}
