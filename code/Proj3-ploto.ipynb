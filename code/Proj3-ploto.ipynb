{
 "cells": [
  {
   "cell_type": "markdown",
   "metadata": {},
   "source": [
    "# Modeling and Simulation in Python\n",
    "\n",
    "Starter code for the orbit example\n",
    "\n",
    "Copyright 2017 Allen Downey\n",
    "\n",
    "License: [Creative Commons Attribution 4.0 International](https://creativecommons.org/licenses/by/4.0)\n"
   ]
  },
  {
   "cell_type": "markdown",
   "metadata": {},
   "source": [
    "Alexandra Maycock- Studio 2"
   ]
  },
  {
   "cell_type": "code",
   "execution_count": 2,
   "metadata": {},
   "outputs": [],
   "source": [
    "# Configure Jupyter so figures appear in the notebook\n",
    "%matplotlib inline\n",
    "\n",
    "# Configure Jupyter to display the assigned value after an assignment\n",
    "%config InteractiveShell.ast_node_interactivity='last_expr_or_assign'\n",
    "\n",
    "# import functions from the modsim.py module\n",
    "from modsim import *\n",
    "\n",
    "from numpy import *"
   ]
  },
  {
   "cell_type": "code",
   "execution_count": 3,
   "metadata": {},
   "outputs": [
    {
     "data": {
      "text/html": [
       "meter"
      ],
      "text/latex": [
       "$meter$"
      ],
      "text/plain": [
       "<Unit('meter')>"
      ]
     },
     "execution_count": 3,
     "metadata": {},
     "output_type": "execute_result"
    }
   ],
   "source": [
    "# units we'll need\n",
    "\n",
    "s = UNITS.second\n",
    "N = UNITS.newton\n",
    "kg = UNITS.kilogram\n",
    "m = UNITS.meter"
   ]
  },
  {
   "cell_type": "code",
   "execution_count": 22,
   "metadata": {},
   "outputs": [
    {
     "data": {
      "text/html": [
       "<div>\n",
       "<style scoped>\n",
       "    .dataframe tbody tr th:only-of-type {\n",
       "        vertical-align: middle;\n",
       "    }\n",
       "\n",
       "    .dataframe tbody tr th {\n",
       "        vertical-align: top;\n",
       "    }\n",
       "\n",
       "    .dataframe thead th {\n",
       "        text-align: right;\n",
       "    }\n",
       "</style>\n",
       "<table border=\"1\" class=\"dataframe\">\n",
       "  <thead>\n",
       "    <tr style=\"text-align: right;\">\n",
       "      <th></th>\n",
       "      <th>values</th>\n",
       "    </tr>\n",
       "  </thead>\n",
       "  <tbody>\n",
       "    <tr>\n",
       "      <th>x</th>\n",
       "      <td>4436820000000.0 meter</td>\n",
       "    </tr>\n",
       "    <tr>\n",
       "      <th>y</th>\n",
       "      <td>0 meter</td>\n",
       "    </tr>\n",
       "    <tr>\n",
       "      <th>vx</th>\n",
       "      <td>0.0 meter / second</td>\n",
       "    </tr>\n",
       "    <tr>\n",
       "      <th>vy</th>\n",
       "      <td>-6100.0 meter / second</td>\n",
       "    </tr>\n",
       "  </tbody>\n",
       "</table>\n",
       "</div>"
      ],
      "text/plain": [
       "x      4436820000000.0 meter\n",
       "y                    0 meter\n",
       "vx        0.0 meter / second\n",
       "vy    -6100.0 meter / second\n",
       "dtype: object"
      ]
     },
     "execution_count": 22,
     "metadata": {},
     "output_type": "execute_result"
    }
   ],
   "source": [
    "# And an initial condition (with everything in SI units)\n",
    "\n",
    "\n",
    "r_0 = 4436.82e9 * m\n",
    "v_0 = -6100 * m/s\n",
    "\n",
    "init = State(x = r_0,\n",
    "             y = 0 * m,\n",
    "             vx = 0 * m / s,\n",
    "             vy = v_0)"
   ]
  },
  {
   "cell_type": "code",
   "execution_count": 93,
   "metadata": {},
   "outputs": [
    {
     "data": {
      "text/html": [
       "<div>\n",
       "<style scoped>\n",
       "    .dataframe tbody tr th:only-of-type {\n",
       "        vertical-align: middle;\n",
       "    }\n",
       "\n",
       "    .dataframe tbody tr th {\n",
       "        vertical-align: top;\n",
       "    }\n",
       "\n",
       "    .dataframe thead th {\n",
       "        text-align: right;\n",
       "    }\n",
       "</style>\n",
       "<table border=\"1\" class=\"dataframe\">\n",
       "  <thead>\n",
       "    <tr style=\"text-align: right;\">\n",
       "      <th></th>\n",
       "      <th>values</th>\n",
       "    </tr>\n",
       "  </thead>\n",
       "  <tbody>\n",
       "    <tr>\n",
       "      <th>init</th>\n",
       "      <td>x      4436820000000.0 meter\n",
       "y                ...</td>\n",
       "    </tr>\n",
       "    <tr>\n",
       "      <th>G</th>\n",
       "      <td>6.674e-11 meter ** 2 * newton / kilogram ** 2</td>\n",
       "    </tr>\n",
       "    <tr>\n",
       "      <th>m1</th>\n",
       "      <td>1.989e+30 kilogram</td>\n",
       "    </tr>\n",
       "    <tr>\n",
       "      <th>r_final</th>\n",
       "      <td>696695000.0 meter</td>\n",
       "    </tr>\n",
       "    <tr>\n",
       "      <th>m2</th>\n",
       "      <td>1.303e+22 kilogram</td>\n",
       "    </tr>\n",
       "    <tr>\n",
       "      <th>t_0</th>\n",
       "      <td>0 second</td>\n",
       "    </tr>\n",
       "    <tr>\n",
       "      <th>t_end</th>\n",
       "      <td>7820000 second</td>\n",
       "    </tr>\n",
       "    <tr>\n",
       "      <th>slices</th>\n",
       "      <td>7</td>\n",
       "    </tr>\n",
       "  </tbody>\n",
       "</table>\n",
       "</div>"
      ],
      "text/plain": [
       "init       x      4436820000000.0 meter\n",
       "y                ...\n",
       "G              6.674e-11 meter ** 2 * newton / kilogram ** 2\n",
       "m1                                        1.989e+30 kilogram\n",
       "r_final                                    696695000.0 meter\n",
       "m2                                        1.303e+22 kilogram\n",
       "t_0                                                 0 second\n",
       "t_end                                         7820000 second\n",
       "slices                                                     7\n",
       "dtype: object"
      ]
     },
     "execution_count": 93,
     "metadata": {},
     "output_type": "execute_result"
    }
   ],
   "source": [
    "# Making a system object\n",
    "\n",
    "r_pluto = 1187000 * m\n",
    "r_sun = 695.508e6 * m\n",
    "\n",
    "system = System(init=init,\n",
    "                G=6.674e-11 * N / kg**2 * m**2,\n",
    "                m1=1.989e30 * kg,\n",
    "                r_final=r_sun + r_pluto,\n",
    "                m2=0.01303e24 * kg,\n",
    "                t_0=0 * s,\n",
    "                t_end=7820000 * s,\n",
    "                slices = 7)\n"
   ]
  },
  {
   "cell_type": "code",
   "execution_count": 94,
   "metadata": {},
   "outputs": [],
   "source": [
    "# function that computes the force of gravity\n",
    "\n",
    "def universal_gravitation(state, system):\n",
    "    \"\"\"Computes gravitational force.\n",
    "    \n",
    "    state: State object with distance r\n",
    "    system: System object with m1, m2, and G\n",
    "    \"\"\"\n",
    "    x, y, vx, vy = state\n",
    "    unpack(system)\n",
    "    r = Vector(x, y)\n",
    "    v = Vector(vx, vy)\n",
    " \n",
    "    force_mag = G * m1 * m2 / r.mag**2\n",
    "    force = r.hat() * force_mag \n",
    "   # force = Vector(G*m1*m2/x**2, G*m1*m2/y**2)\n",
    "    return force"
   ]
  },
  {
   "cell_type": "code",
   "execution_count": 95,
   "metadata": {},
   "outputs": [
    {
     "data": {
      "text/html": [
       "[8.78661872e+16 0.00000000e+00] newton"
      ],
      "text/latex": [
       "$[8.78661872e+16 0.00000000e+00] newton$"
      ],
      "text/plain": [
       "<Quantity([8.78661872e+16 0.00000000e+00], 'newton')>"
      ]
     },
     "execution_count": 95,
     "metadata": {},
     "output_type": "execute_result"
    }
   ],
   "source": [
    "universal_gravitation(init, system)"
   ]
  },
  {
   "cell_type": "code",
   "execution_count": 96,
   "metadata": {},
   "outputs": [],
   "source": [
    "\n",
    "def slope_func(state, t, system):\n",
    "    \"\"\"Compute derivatives of the state.\n",
    "    \n",
    "    state: position, velocity\n",
    "    t: time\n",
    "    system: System object containing `g`\n",
    "    \n",
    "    returns: derivatives of y and v\n",
    "    \"\"\"\n",
    "    x, y, vx, vy = state\n",
    "    unpack(system)    \n",
    "\n",
    "    force_x, force_y = universal_gravitation(state, system)\n",
    "    dxdt = vx\n",
    "    dydt = vy\n",
    "    dvxdt = -force_x / m2\n",
    "    dvydt = -force_y / m2\n",
    "    \n",
    "    return dxdt, dydt, dvxdt, dvydt"
   ]
  },
  {
   "cell_type": "code",
   "execution_count": 97,
   "metadata": {},
   "outputs": [
    {
     "data": {
      "text/plain": [
       "(<Quantity(0.0, 'meter / second')>,\n",
       " <Quantity(-6100.0, 'meter / second')>,\n",
       " <Quantity(-6.743375839653671e-06, 'newton / kilogram')>,\n",
       " <Quantity(-0.0, 'newton / kilogram')>)"
      ]
     },
     "execution_count": 97,
     "metadata": {},
     "output_type": "execute_result"
    }
   ],
   "source": [
    "#test the slope function\n",
    "\n",
    "slope_func(init, 0, system)"
   ]
  },
  {
   "cell_type": "code",
   "execution_count": 98,
   "metadata": {},
   "outputs": [],
   "source": [
    "# Event function that stops the simulation upon collision\n",
    "\n",
    "def event_func(state, t, system):\n",
    "    x, y, vx, vy = state\n",
    "    position = Vector(x,y)\n",
    "    return position.mag - system.r_final"
   ]
  },
  {
   "cell_type": "code",
   "execution_count": 99,
   "metadata": {},
   "outputs": [
    {
     "data": {
      "text/html": [
       "4436123305000.0 meter"
      ],
      "text/latex": [
       "$4436123305000.0 meter$"
      ],
      "text/plain": [
       "<Quantity(4436123305000.0, 'meter')>"
      ]
     },
     "execution_count": 99,
     "metadata": {},
     "output_type": "execute_result"
    }
   ],
   "source": [
    "events = event_func(init, 0, system)"
   ]
  },
  {
   "cell_type": "code",
   "execution_count": 100,
   "metadata": {},
   "outputs": [
    {
     "data": {
      "text/html": [
       "[      0.         1117142.85714286 2234285.71428571 3351428.57142857 4468571.42857143 5585714.28571429 6702857.14285714] second"
      ],
      "text/latex": [
       "$[      0.         1117142.85714286 2234285.71428571 3351428.57142857 4468571.42857143 5585714.28571429 6702857.14285714] second$"
      ],
      "text/plain": [
       "<Quantity([      0.         1117142.85714286 2234285.71428571 3351428.57142857\n",
       " 4468571.42857143 5585714.28571429 6702857.14285714], 'second')>"
      ]
     },
     "execution_count": 100,
     "metadata": {},
     "output_type": "execute_result"
    }
   ],
   "source": [
    "dt = (system.t_end - system.t_0)/ system.slices\n",
    "times = (linrange(system.t_0, system.t_end, dt))"
   ]
  },
  {
   "cell_type": "code",
   "execution_count": 101,
   "metadata": {},
   "outputs": [
    {
     "data": {
      "text/html": [
       "<div>\n",
       "<style scoped>\n",
       "    .dataframe tbody tr th:only-of-type {\n",
       "        vertical-align: middle;\n",
       "    }\n",
       "\n",
       "    .dataframe tbody tr th {\n",
       "        vertical-align: top;\n",
       "    }\n",
       "\n",
       "    .dataframe thead th {\n",
       "        text-align: right;\n",
       "    }\n",
       "</style>\n",
       "<table border=\"1\" class=\"dataframe\">\n",
       "  <thead>\n",
       "    <tr style=\"text-align: right;\">\n",
       "      <th></th>\n",
       "      <th>values</th>\n",
       "    </tr>\n",
       "  </thead>\n",
       "  <tbody>\n",
       "    <tr>\n",
       "      <th>sol</th>\n",
       "      <td>None</td>\n",
       "    </tr>\n",
       "    <tr>\n",
       "      <th>t_events</th>\n",
       "      <td>[[]]</td>\n",
       "    </tr>\n",
       "    <tr>\n",
       "      <th>nfev</th>\n",
       "      <td>92</td>\n",
       "    </tr>\n",
       "    <tr>\n",
       "      <th>njev</th>\n",
       "      <td>0</td>\n",
       "    </tr>\n",
       "    <tr>\n",
       "      <th>nlu</th>\n",
       "      <td>0</td>\n",
       "    </tr>\n",
       "    <tr>\n",
       "      <th>status</th>\n",
       "      <td>0</td>\n",
       "    </tr>\n",
       "    <tr>\n",
       "      <th>message</th>\n",
       "      <td>The solver successfully reached the end of the...</td>\n",
       "    </tr>\n",
       "    <tr>\n",
       "      <th>success</th>\n",
       "      <td>True</td>\n",
       "    </tr>\n",
       "  </tbody>\n",
       "</table>\n",
       "</div>"
      ],
      "text/plain": [
       "sol                                                      None\n",
       "t_events                                                 [[]]\n",
       "nfev                                                       92\n",
       "njev                                                        0\n",
       "nlu                                                         0\n",
       "status                                                      0\n",
       "message     The solver successfully reached the end of the...\n",
       "success                                                  True\n",
       "dtype: object"
      ]
     },
     "execution_count": 101,
     "metadata": {},
     "output_type": "execute_result"
    }
   ],
   "source": [
    "#  run the simulation\n",
    "\n",
    "\n",
    "results, details = run_ode_solver(system, slope_func, events=event_func, t_eval = times )\n",
    "details"
   ]
  },
  {
   "cell_type": "code",
   "execution_count": 102,
   "metadata": {},
   "outputs": [
    {
     "data": {
      "text/html": [
       "<div>\n",
       "<style scoped>\n",
       "    .dataframe tbody tr th:only-of-type {\n",
       "        vertical-align: middle;\n",
       "    }\n",
       "\n",
       "    .dataframe tbody tr th {\n",
       "        vertical-align: top;\n",
       "    }\n",
       "\n",
       "    .dataframe thead th {\n",
       "        text-align: right;\n",
       "    }\n",
       "</style>\n",
       "<table border=\"1\" class=\"dataframe\">\n",
       "  <thead>\n",
       "    <tr style=\"text-align: right;\">\n",
       "      <th></th>\n",
       "      <th>x</th>\n",
       "      <th>y</th>\n",
       "      <th>vx</th>\n",
       "      <th>vy</th>\n",
       "    </tr>\n",
       "  </thead>\n",
       "  <tbody>\n",
       "    <tr>\n",
       "      <th>0.000000e+00</th>\n",
       "      <td>4.436820e+12</td>\n",
       "      <td>0.000000e+00</td>\n",
       "      <td>0.000000</td>\n",
       "      <td>-6100.000000</td>\n",
       "    </tr>\n",
       "    <tr>\n",
       "      <th>1.117143e+06</th>\n",
       "      <td>4.436816e+12</td>\n",
       "      <td>-6.814569e+09</td>\n",
       "      <td>-7.533310</td>\n",
       "      <td>-6099.994215</td>\n",
       "    </tr>\n",
       "    <tr>\n",
       "      <th>2.234286e+06</th>\n",
       "      <td>4.436803e+12</td>\n",
       "      <td>-1.362913e+10</td>\n",
       "      <td>-15.066595</td>\n",
       "      <td>-6099.976859</td>\n",
       "    </tr>\n",
       "    <tr>\n",
       "      <th>3.351429e+06</th>\n",
       "      <td>4.436782e+12</td>\n",
       "      <td>-2.044366e+10</td>\n",
       "      <td>-22.599831</td>\n",
       "      <td>-6099.947933</td>\n",
       "    </tr>\n",
       "    <tr>\n",
       "      <th>4.468571e+06</th>\n",
       "      <td>4.436753e+12</td>\n",
       "      <td>-2.725815e+10</td>\n",
       "      <td>-30.132993</td>\n",
       "      <td>-6099.907437</td>\n",
       "    </tr>\n",
       "    <tr>\n",
       "      <th>5.585714e+06</th>\n",
       "      <td>4.436715e+12</td>\n",
       "      <td>-3.407259e+10</td>\n",
       "      <td>-37.666055</td>\n",
       "      <td>-6099.855370</td>\n",
       "    </tr>\n",
       "    <tr>\n",
       "      <th>6.702857e+06</th>\n",
       "      <td>4.436669e+12</td>\n",
       "      <td>-4.088696e+10</td>\n",
       "      <td>-45.198994</td>\n",
       "      <td>-6099.791734</td>\n",
       "    </tr>\n",
       "  </tbody>\n",
       "</table>\n",
       "</div>"
      ],
      "text/plain": [
       "                         x             y         vx           vy\n",
       "0.000000e+00  4.436820e+12  0.000000e+00   0.000000 -6100.000000\n",
       "1.117143e+06  4.436816e+12 -6.814569e+09  -7.533310 -6099.994215\n",
       "2.234286e+06  4.436803e+12 -1.362913e+10 -15.066595 -6099.976859\n",
       "3.351429e+06  4.436782e+12 -2.044366e+10 -22.599831 -6099.947933\n",
       "4.468571e+06  4.436753e+12 -2.725815e+10 -30.132993 -6099.907437\n",
       "5.585714e+06  4.436715e+12 -3.407259e+10 -37.666055 -6099.855370\n",
       "6.702857e+06  4.436669e+12 -4.088696e+10 -45.198994 -6099.791734"
      ]
     },
     "execution_count": 102,
     "metadata": {},
     "output_type": "execute_result"
    }
   ],
   "source": [
    "results"
   ]
  },
  {
   "cell_type": "code",
   "execution_count": 112,
   "metadata": {},
   "outputs": [],
   "source": [
    "#conversions\n",
    "\n",
    "day = results.index/86400\n",
    "\n",
    "def convert_m(meters):\n",
    "    \n",
    "    #meters to kilometers\n",
    "    km = meters/1000\n",
    "    \n",
    "    #kilometers to million kilometers\n",
    "    Mkm = km/1e6\n",
    "    \n",
    "    return Mkm"
   ]
  },
  {
   "cell_type": "code",
   "execution_count": 113,
   "metadata": {},
   "outputs": [
    {
     "data": {
      "image/png": "[encoded data removed]",
      "text/plain": [
       "<Figure size 432x288 with 1 Axes>"
      ]
     },
     "metadata": {},
     "output_type": "display_data"
    }
   ],
   "source": [
    "#Zero Initial Velocity\n",
    "plot(day,convert_m(results.x), label = 'X postion')\n",
    "plot(day,convert_m(results.y), label = 'Y positon')\n",
    "decorate(title = 'Intitial Velocity = 0m/s',\n",
    "         xlabel='Time (days)',\n",
    "         ylabel='Distance from sun (million km)')"
   ]
  },
  {
   "cell_type": "code",
   "execution_count": 114,
   "metadata": {},
   "outputs": [
    {
     "data": {
      "image/png": "[encoded data removed]",
      "text/plain": [
       "<Figure size 432x288 with 1 Axes>"
      ]
     },
     "metadata": {},
     "output_type": "display_data"
    }
   ],
   "source": [
    "\n",
    "plot(convert_m(results.x),convert_m(results.y), label ='Path')\n",
    "decorate(title = 'Intitial Velocity = -30,300 m/s',\n",
    "         xlabel='Distance from sun (million km)',\n",
    "         ylabel='Distance from sun (million km)')"
   ]
  },
  {
   "cell_type": "code",
   "execution_count": 106,
   "metadata": {},
   "outputs": [
    {
     "data": {
      "text/html": [
       "<div>\n",
       "<style scoped>\n",
       "    .dataframe tbody tr th:only-of-type {\n",
       "        vertical-align: middle;\n",
       "    }\n",
       "\n",
       "    .dataframe tbody tr th {\n",
       "        vertical-align: top;\n",
       "    }\n",
       "\n",
       "    .dataframe thead th {\n",
       "        text-align: right;\n",
       "    }\n",
       "</style>\n",
       "<table border=\"1\" class=\"dataframe\">\n",
       "  <thead>\n",
       "    <tr style=\"text-align: right;\">\n",
       "      <th></th>\n",
       "      <th>values</th>\n",
       "    </tr>\n",
       "  </thead>\n",
       "  <tbody>\n",
       "    <tr>\n",
       "      <th>S</th>\n",
       "      <td>0</td>\n",
       "    </tr>\n",
       "    <tr>\n",
       "      <th>E</th>\n",
       "      <td>1.11714e+06</td>\n",
       "    </tr>\n",
       "    <tr>\n",
       "      <th>A</th>\n",
       "      <td>4436820000000.0 dimensionless</td>\n",
       "    </tr>\n",
       "    <tr>\n",
       "      <th>B</th>\n",
       "      <td>4436821025401.564 dimensionless</td>\n",
       "    </tr>\n",
       "    <tr>\n",
       "      <th>C</th>\n",
       "      <td>6.81457e+09</td>\n",
       "    </tr>\n",
       "    <tr>\n",
       "      <th>SP</th>\n",
       "      <td>4440227797987.485 dimensionless</td>\n",
       "    </tr>\n",
       "    <tr>\n",
       "      <th>area</th>\n",
       "      <td>1.511750862369213e+22 dimensionless</td>\n",
       "    </tr>\n",
       "  </tbody>\n",
       "</table>\n",
       "</div>"
      ],
      "text/plain": [
       "S                                         0\n",
       "E                               1.11714e+06\n",
       "A             4436820000000.0 dimensionless\n",
       "B           4436821025401.564 dimensionless\n",
       "C                               6.81457e+09\n",
       "SP          4440227797987.485 dimensionless\n",
       "area    1.511750862369213e+22 dimensionless\n",
       "dtype: object"
      ]
     },
     "execution_count": 106,
     "metadata": {},
     "output_type": "execute_result"
    }
   ],
   "source": [
    "S = results.index[0]\n",
    "E = results.index[1]\n",
    "a_vec = Vector(results.x[results.index[0]], results.y[results.index[0]])\n",
    "A = a_vec.mag\n",
    "b_vec = Vector(results.x[results.index[1]], results.y[results.index[1]])\n",
    "B = b_vec.mag\n",
    "C = sqrt((results.x[results.index[1]]-results.x[results.index[0]])**2 +(results.y[results.index[1]]-results.y[results.index[0]])**2 )\n",
    "SP = (A+B+C)/2\n",
    "area = sqrt(SP * (SP - A) * (SP - B) * (SP - C))\n",
    "\n",
    "state= State(S=S, E=E, A=A, B=B, C=C, SP=SP, area=area)"
   ]
  },
  {
   "cell_type": "code",
   "execution_count": 107,
   "metadata": {},
   "outputs": [],
   "source": [
    "def area_of_sector(results,system,state):\n",
    "    unpack(system)\n",
    "    \n",
    "    dt = (t_end-t_0)/slices\n",
    "    \n",
    "    t_interval = linrange(t_0,t_end,dt)\n",
    "    \n",
    "    frame = TimeFrame(columns = state.index)\n",
    "    frame.row[1] = state\n",
    "     \n",
    "    reps = linrange (1, slices)\n",
    "    \n",
    "    for t in reps:\n",
    "        frame.row[t+1] = table_row(frame.row[t], t, system, results)\n",
    "        \n",
    "    return frame\n",
    "    "
   ]
  },
  {
   "cell_type": "code",
   "execution_count": 108,
   "metadata": {},
   "outputs": [],
   "source": [
    "def table_row(state, t , system, results):\n",
    "    s, e, a, b, c, sp, area = state\n",
    "    unpack(system)\n",
    "    \n",
    "    dt = (t_end-t_0)/slices/UNITS.s\n",
    "    news = e\n",
    "    newe = news + dt\n",
    "    \n",
    "    \n",
    "    a_vec = Vector(results.x[results.index[t-1]], results.y[results.index[t-1]])       \n",
    "    newa = a_vec.mag\n",
    "    \n",
    "    b_vec = Vector(results.x[results.index[t]], results.y[results.index[t]])\n",
    "    newb = b_vec.mag \n",
    "\n",
    "    newc = sqrt((results.x[results.index[t]]-results.x[results.index[t-1]])**2 +(results.y[results.index[t]]-results.y[results.index[t-1]])**2 )\n",
    "    \n",
    "    newsp = (newa + newb + newc)/2\n",
    "    newarea = sqrt(newsp * (newsp - newa) * (newsp - newb) * (newsp - newc))\n",
    "    \n",
    "    return State (S=news, E=newe, A=newa, B=newb, C=newc, SP=newsp, area=newarea)\n",
    "    \n",
    "    \n",
    "    "
   ]
  },
  {
   "cell_type": "code",
   "execution_count": 109,
   "metadata": {},
   "outputs": [
    {
     "data": {
      "text/html": [
       "<div>\n",
       "<style scoped>\n",
       "    .dataframe tbody tr th:only-of-type {\n",
       "        vertical-align: middle;\n",
       "    }\n",
       "\n",
       "    .dataframe tbody tr th {\n",
       "        vertical-align: top;\n",
       "    }\n",
       "\n",
       "    .dataframe thead th {\n",
       "        text-align: right;\n",
       "    }\n",
       "</style>\n",
       "<table border=\"1\" class=\"dataframe\">\n",
       "  <thead>\n",
       "    <tr style=\"text-align: right;\">\n",
       "      <th></th>\n",
       "      <th>S</th>\n",
       "      <th>E</th>\n",
       "      <th>A</th>\n",
       "      <th>B</th>\n",
       "      <th>C</th>\n",
       "      <th>SP</th>\n",
       "      <th>area</th>\n",
       "    </tr>\n",
       "  </thead>\n",
       "  <tbody>\n",
       "    <tr>\n",
       "      <th>1</th>\n",
       "      <td>0</td>\n",
       "      <td>1.11714e+06</td>\n",
       "      <td>4436820000000.0 dimensionless</td>\n",
       "      <td>4436821025401.564 dimensionless</td>\n",
       "      <td>6.814571e+09</td>\n",
       "      <td>4440227797987.485 dimensionless</td>\n",
       "      <td>1.511750862369213e+22 dimensionless</td>\n",
       "    </tr>\n",
       "    <tr>\n",
       "      <th>2</th>\n",
       "      <td>1.11714e+06</td>\n",
       "      <td>2234285.714285714 dimensionless</td>\n",
       "      <td>4436820000000.0 dimensionless</td>\n",
       "      <td>4436821025401.564 dimensionless</td>\n",
       "      <td>6.814571e+09</td>\n",
       "      <td>4440227797987.485 dimensionless</td>\n",
       "      <td>1.511750862369213e+22 dimensionless</td>\n",
       "    </tr>\n",
       "    <tr>\n",
       "      <th>3</th>\n",
       "      <td>2234285.714285714 dimensionless</td>\n",
       "      <td>3351428.571428571 dimensionless</td>\n",
       "      <td>4436821025401.564 dimensionless</td>\n",
       "      <td>4436824101602.887 dimensionless</td>\n",
       "      <td>6.814568e+09</td>\n",
       "      <td>4440229847522.591 dimensionless</td>\n",
       "      <td>1.511750862369975e+22 dimensionless</td>\n",
       "    </tr>\n",
       "    <tr>\n",
       "      <th>4</th>\n",
       "      <td>3351428.571428571 dimensionless</td>\n",
       "      <td>4468571.428571428 dimensionless</td>\n",
       "      <td>4436824101602.887 dimensionless</td>\n",
       "      <td>4436829228593.867 dimensionless</td>\n",
       "      <td>6.814563e+09</td>\n",
       "      <td>4440233946586.078 dimensionless</td>\n",
       "      <td>1.51175086237392e+22 dimensionless</td>\n",
       "    </tr>\n",
       "    <tr>\n",
       "      <th>5</th>\n",
       "      <td>4468571.428571428 dimensionless</td>\n",
       "      <td>5585714.285714285 dimensionless</td>\n",
       "      <td>4436829228593.867 dimensionless</td>\n",
       "      <td>4436836406357.672 dimensionless</td>\n",
       "      <td>6.814555e+09</td>\n",
       "      <td>4440240095164.48 dimensionless</td>\n",
       "      <td>1.5117508623754957e+22 dimensionless</td>\n",
       "    </tr>\n",
       "    <tr>\n",
       "      <th>6</th>\n",
       "      <td>5585714.285714285 dimensionless</td>\n",
       "      <td>6702857.142857143 dimensionless</td>\n",
       "      <td>4436836406357.672 dimensionless</td>\n",
       "      <td>4436845634870.734 dimensionless</td>\n",
       "      <td>6.814545e+09</td>\n",
       "      <td>4440248293237.611 dimensionless</td>\n",
       "      <td>1.511750862372439e+22 dimensionless</td>\n",
       "    </tr>\n",
       "    <tr>\n",
       "      <th>7</th>\n",
       "      <td>6702857.142857143 dimensionless</td>\n",
       "      <td>7820000.0 dimensionless</td>\n",
       "      <td>4436845634870.734 dimensionless</td>\n",
       "      <td>4436856914102.752 dimensionless</td>\n",
       "      <td>6.814533e+09</td>\n",
       "      <td>4440258540778.588 dimensionless</td>\n",
       "      <td>1.5117508623766076e+22 dimensionless</td>\n",
       "    </tr>\n",
       "  </tbody>\n",
       "</table>\n",
       "</div>"
      ],
      "text/plain": [
       "                                 S                                E  \\\n",
       "1                                0                      1.11714e+06   \n",
       "2                      1.11714e+06  2234285.714285714 dimensionless   \n",
       "3  2234285.714285714 dimensionless  3351428.571428571 dimensionless   \n",
       "4  3351428.571428571 dimensionless  4468571.428571428 dimensionless   \n",
       "5  4468571.428571428 dimensionless  5585714.285714285 dimensionless   \n",
       "6  5585714.285714285 dimensionless  6702857.142857143 dimensionless   \n",
       "7  6702857.142857143 dimensionless          7820000.0 dimensionless   \n",
       "\n",
       "                                 A                                B  \\\n",
       "1    4436820000000.0 dimensionless  4436821025401.564 dimensionless   \n",
       "2    4436820000000.0 dimensionless  4436821025401.564 dimensionless   \n",
       "3  4436821025401.564 dimensionless  4436824101602.887 dimensionless   \n",
       "4  4436824101602.887 dimensionless  4436829228593.867 dimensionless   \n",
       "5  4436829228593.867 dimensionless  4436836406357.672 dimensionless   \n",
       "6  4436836406357.672 dimensionless  4436845634870.734 dimensionless   \n",
       "7  4436845634870.734 dimensionless  4436856914102.752 dimensionless   \n",
       "\n",
       "              C                               SP  \\\n",
       "1  6.814571e+09  4440227797987.485 dimensionless   \n",
       "2  6.814571e+09  4440227797987.485 dimensionless   \n",
       "3  6.814568e+09  4440229847522.591 dimensionless   \n",
       "4  6.814563e+09  4440233946586.078 dimensionless   \n",
       "5  6.814555e+09   4440240095164.48 dimensionless   \n",
       "6  6.814545e+09  4440248293237.611 dimensionless   \n",
       "7  6.814533e+09  4440258540778.588 dimensionless   \n",
       "\n",
       "                                   area  \n",
       "1   1.511750862369213e+22 dimensionless  \n",
       "2   1.511750862369213e+22 dimensionless  \n",
       "3   1.511750862369975e+22 dimensionless  \n",
       "4    1.51175086237392e+22 dimensionless  \n",
       "5  1.5117508623754957e+22 dimensionless  \n",
       "6   1.511750862372439e+22 dimensionless  \n",
       "7  1.5117508623766076e+22 dimensionless  "
      ]
     },
     "execution_count": 109,
     "metadata": {},
     "output_type": "execute_result"
    }
   ],
   "source": [
    "numbs = area_of_sector(results, system, state)"
   ]
  },
  {
   "cell_type": "code",
   "execution_count": 110,
   "metadata": {},
   "outputs": [
    {
     "data": {
      "text/html": [
       "<div>\n",
       "<style scoped>\n",
       "    .dataframe tbody tr th:only-of-type {\n",
       "        vertical-align: middle;\n",
       "    }\n",
       "\n",
       "    .dataframe tbody tr th {\n",
       "        vertical-align: top;\n",
       "    }\n",
       "\n",
       "    .dataframe thead th {\n",
       "        text-align: right;\n",
       "    }\n",
       "</style>\n",
       "<table border=\"1\" class=\"dataframe\">\n",
       "  <thead>\n",
       "    <tr style=\"text-align: right;\">\n",
       "      <th></th>\n",
       "      <th>x</th>\n",
       "      <th>y</th>\n",
       "      <th>vx</th>\n",
       "      <th>vy</th>\n",
       "    </tr>\n",
       "  </thead>\n",
       "  <tbody>\n",
       "    <tr>\n",
       "      <th>0.000000e+00</th>\n",
       "      <td>4.436820e+12</td>\n",
       "      <td>0.000000e+00</td>\n",
       "      <td>0.000000</td>\n",
       "      <td>-6100.000000</td>\n",
       "    </tr>\n",
       "    <tr>\n",
       "      <th>1.117143e+06</th>\n",
       "      <td>4.436816e+12</td>\n",
       "      <td>-6.814569e+09</td>\n",
       "      <td>-7.533310</td>\n",
       "      <td>-6099.994215</td>\n",
       "    </tr>\n",
       "    <tr>\n",
       "      <th>2.234286e+06</th>\n",
       "      <td>4.436803e+12</td>\n",
       "      <td>-1.362913e+10</td>\n",
       "      <td>-15.066595</td>\n",
       "      <td>-6099.976859</td>\n",
       "    </tr>\n",
       "    <tr>\n",
       "      <th>3.351429e+06</th>\n",
       "      <td>4.436782e+12</td>\n",
       "      <td>-2.044366e+10</td>\n",
       "      <td>-22.599831</td>\n",
       "      <td>-6099.947933</td>\n",
       "    </tr>\n",
       "    <tr>\n",
       "      <th>4.468571e+06</th>\n",
       "      <td>4.436753e+12</td>\n",
       "      <td>-2.725815e+10</td>\n",
       "      <td>-30.132993</td>\n",
       "      <td>-6099.907437</td>\n",
       "    </tr>\n",
       "    <tr>\n",
       "      <th>5.585714e+06</th>\n",
       "      <td>4.436715e+12</td>\n",
       "      <td>-3.407259e+10</td>\n",
       "      <td>-37.666055</td>\n",
       "      <td>-6099.855370</td>\n",
       "    </tr>\n",
       "    <tr>\n",
       "      <th>6.702857e+06</th>\n",
       "      <td>4.436669e+12</td>\n",
       "      <td>-4.088696e+10</td>\n",
       "      <td>-45.198994</td>\n",
       "      <td>-6099.791734</td>\n",
       "    </tr>\n",
       "  </tbody>\n",
       "</table>\n",
       "</div>"
      ],
      "text/plain": [
       "                         x             y         vx           vy\n",
       "0.000000e+00  4.436820e+12  0.000000e+00   0.000000 -6100.000000\n",
       "1.117143e+06  4.436816e+12 -6.814569e+09  -7.533310 -6099.994215\n",
       "2.234286e+06  4.436803e+12 -1.362913e+10 -15.066595 -6099.976859\n",
       "3.351429e+06  4.436782e+12 -2.044366e+10 -22.599831 -6099.947933\n",
       "4.468571e+06  4.436753e+12 -2.725815e+10 -30.132993 -6099.907437\n",
       "5.585714e+06  4.436715e+12 -3.407259e+10 -37.666055 -6099.855370\n",
       "6.702857e+06  4.436669e+12 -4.088696e+10 -45.198994 -6099.791734"
      ]
     },
     "execution_count": 110,
     "metadata": {},
     "output_type": "execute_result"
    }
   ],
   "source": [
    "results"
   ]
  },
  {
   "cell_type": "code",
   "execution_count": 111,
   "metadata": {},
   "outputs": [
    {
     "data": {
      "text/plain": [
       "[<matplotlib.lines.Line2D at 0x1dfc9527b38>]"
      ]
     },
     "execution_count": 111,
     "metadata": {},
     "output_type": "execute_result"
    },
    {
     "data": {
      "image/png": "[encoded data removed]",
      "text/plain": [
       "<Figure size 432x288 with 1 Axes>"
      ]
     },
     "metadata": {},
     "output_type": "display_data"
    }
   ],
   "source": [
    "plot(numbs.area)"
   ]
  },
  {
   "cell_type": "code",
   "execution_count": 47,
   "metadata": {},
   "outputs": [
    {
     "data": {
      "text/plain": [
       "-1117142857.142857"
      ]
     },
     "execution_count": 47,
     "metadata": {},
     "output_type": "execute_result"
    }
   ],
   "source": [
    "numbs.S[1]-numbs.E[1]"
   ]
  },
  {
   "cell_type": "code",
   "execution_count": 48,
   "metadata": {},
   "outputs": [
    {
     "data": {
      "text/html": [
       "-1303333333.3333335 dimensionless"
      ],
      "text/latex": [
       "$-1303333333.3333335 dimensionless$"
      ],
      "text/plain": [
       "<Quantity(-1303333333.3333335, 'dimensionless')>"
      ]
     },
     "execution_count": 48,
     "metadata": {},
     "output_type": "execute_result"
    }
   ],
   "source": [
    "numbs.S[2]-numbs.E[2]"
   ]
  },
  {
   "cell_type": "code",
   "execution_count": 49,
   "metadata": {},
   "outputs": [
    {
     "data": {
      "text/html": [
       "-1303333333.333333 dimensionless"
      ],
      "text/latex": [
       "$-1303333333.333333 dimensionless$"
      ],
      "text/plain": [
       "<Quantity(-1303333333.333333, 'dimensionless')>"
      ]
     },
     "execution_count": 49,
     "metadata": {},
     "output_type": "execute_result"
    }
   ],
   "source": [
    "numbs.S[3]-numbs.E[3]"
   ]
  },
  {
   "cell_type": "code",
   "execution_count": null,
   "metadata": {},
   "outputs": [],
   "source": []
  }
 ],
 "metadata": {
  "kernelspec": {
   "display_name": "Python 3",
   "language": "python",
   "name": "python3"
  },
  "language_info": {
   "codemirror_mode": {
    "name": "ipython",
    "version": 3
   },
   "file_extension": ".py",
   "mimetype": "text/x-python",
   "name": "python",
   "nbconvert_exporter": "python",
   "pygments_lexer": "ipython3",
   "version": "3.6.6"
  }
 },
 "nbformat": 4,
 "nbformat_minor": 2
}
