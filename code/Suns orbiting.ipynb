{
 "cells": [
  {
   "cell_type": "code",
   "execution_count": 1,
   "metadata": {},
   "outputs": [],
   "source": [
    "# Configure Jupyter so figures appear in the notebook\n",
    "%matplotlib inline\n",
    "\n",
    "# Configure Jupyter to display the assigned value after an assignment\n",
    "%config InteractiveShell.ast_node_interactivity='last_expr_or_assign'\n",
    "\n",
    "# import functions from the modsim.py module\n",
    "from modsim import *"
   ]
  },
  {
   "cell_type": "code",
   "execution_count": 2,
   "metadata": {},
   "outputs": [
    {
     "data": {
      "text/html": [
       "meter"
      ],
      "text/latex": [
       "$meter$"
      ],
      "text/plain": [
       "<Unit('meter')>"
      ]
     },
     "execution_count": 2,
     "metadata": {},
     "output_type": "execute_result"
    }
   ],
   "source": [
    "s = UNITS.second\n",
    "N = UNITS.newton\n",
    "kg = UNITS.kilogram\n",
    "m = UNITS.meter"
   ]
  },
  {
   "cell_type": "code",
   "execution_count": 65,
   "metadata": {},
   "outputs": [
    {
     "data": {
      "text/html": [
       "<div>\n",
       "<style scoped>\n",
       "    .dataframe tbody tr th:only-of-type {\n",
       "        vertical-align: middle;\n",
       "    }\n",
       "\n",
       "    .dataframe tbody tr th {\n",
       "        vertical-align: top;\n",
       "    }\n",
       "\n",
       "    .dataframe thead th {\n",
       "        text-align: right;\n",
       "    }\n",
       "</style>\n",
       "<table border=\"1\" class=\"dataframe\">\n",
       "  <thead>\n",
       "    <tr style=\"text-align: right;\">\n",
       "      <th></th>\n",
       "      <th>values</th>\n",
       "    </tr>\n",
       "  </thead>\n",
       "  <tbody>\n",
       "    <tr>\n",
       "      <th>s1x</th>\n",
       "      <td>90000000000.0 meter</td>\n",
       "    </tr>\n",
       "    <tr>\n",
       "      <th>s1y</th>\n",
       "      <td>0 meter</td>\n",
       "    </tr>\n",
       "    <tr>\n",
       "      <th>s1vx</th>\n",
       "      <td>0.0 meter / second</td>\n",
       "    </tr>\n",
       "    <tr>\n",
       "      <th>s1vy</th>\n",
       "      <td>9000.0 meter / second</td>\n",
       "    </tr>\n",
       "    <tr>\n",
       "      <th>s2x</th>\n",
       "      <td>-90000000000.0 meter</td>\n",
       "    </tr>\n",
       "    <tr>\n",
       "      <th>s2y</th>\n",
       "      <td>0 meter</td>\n",
       "    </tr>\n",
       "    <tr>\n",
       "      <th>s2vx</th>\n",
       "      <td>0.0 meter / second</td>\n",
       "    </tr>\n",
       "    <tr>\n",
       "      <th>s2vy</th>\n",
       "      <td>-9000.0 meter / second</td>\n",
       "    </tr>\n",
       "  </tbody>\n",
       "</table>\n",
       "</div>"
      ],
      "text/plain": [
       "s1x        90000000000.0 meter\n",
       "s1y                    0 meter\n",
       "s1vx        0.0 meter / second\n",
       "s1vy     9000.0 meter / second\n",
       "s2x       -90000000000.0 meter\n",
       "s2y                    0 meter\n",
       "s2vx        0.0 meter / second\n",
       "s2vy    -9000.0 meter / second\n",
       "dtype: object"
      ]
     },
     "execution_count": 65,
     "metadata": {},
     "output_type": "execute_result"
    }
   ],
   "source": [
    "s1x = 90e9\n",
    "s1y = 0\n",
    "s1vx = 0 \n",
    "s1vy = 9000\n",
    "\n",
    "s2x = -90e9\n",
    "s2y = 0\n",
    "s2vx = 0\n",
    "s2vy = -9000\n",
    "\n",
    "init = State(s1x = s1x * m,\n",
    "             s1y = s1y * m,\n",
    "             s1vx = s1vx * m/s,\n",
    "             s1vy = s1vy *m/s,\n",
    "             \n",
    "             s2x = s2x * m,\n",
    "             s2y = s2y * m,\n",
    "             s2vx = s2vx * m/s,\n",
    "             s2vy = s2vy *m/s,\n",
    "             )"
   ]
  },
  {
   "cell_type": "code",
   "execution_count": null,
   "metadata": {},
   "outputs": [],
   "source": [
    "system = System(init=init,\n",
    "                G=6.674e-11 * N / kg**2 * m**2,\n",
    "                s1m=1.989e30 * kg,\n",
    "                s2m=1.989e30 * kg,\n",
    "                t_0=0 * s,\n",
    "                t_end=1.5e10* s)"
   ]
  },
  {
   "cell_type": "code",
   "execution_count": null,
   "metadata": {},
   "outputs": [],
   "source": [
    "def universal_gravitation_s1(state, system):\n",
    "    s1x, s1y, s1vx, s1vy, s2x, s2y, s2vx, s2vy = state\n",
    "    unpack(system)\n",
    "    \n",
    "    #vectors\n",
    "    orgin_to_s1 = Vector(s1x,s1y)\n",
    "    orgin_to_s2 = Vector(s2x,s2y)\n",
    "    \n",
    "    #direction\n",
    "    s1_to_s2 = -orgin_to_s1 + orgin_to_s2\n",
    "    \n",
    "    s1_to_s2_dir = s1_to_s2.hat()\n",
    "   \n",
    "    \n",
    "    #magnitude\n",
    "    r = sqrt(((s2x-s1x)**2) + ((s2y-s1y)**2))\n",
    "        \n",
    "    mag = G * s1m * s2m / r**2\n",
    "    \n",
    "    grav_force_s1= s1_to_s2_dir * mag\n",
    "    \n",
    "    return grav_force_s1"
   ]
  },
  {
   "cell_type": "code",
   "execution_count": null,
   "metadata": {},
   "outputs": [],
   "source": [
    "def universal_gravitation_s2(state, system):\n",
    "    s1x, s1y, s1vx, s1vy, s2x, s2y, s2vx, s2vy = state\n",
    "    unpack(system)\n",
    "    \n",
    "    #vectors\n",
    "    orgin_to_s1 = Vector(s1x,s1y)\n",
    "    orgin_to_s2 = Vector(s2x,s2y)\n",
    "    \n",
    "    #direction\n",
    "    s2_to_s1 = -orgin_to_s2 + orgin_to_s1\n",
    "    \n",
    "    s2_to_s1_dir =  s2_to_s1.hat()\n",
    "    \n",
    "    #magnitude\n",
    "    r = sqrt(((s2x-s1x)**2) + ((s2y-s1y)**2))\n",
    "        \n",
    "    mag = G * s1m * s2m / r**2\n",
    "    \n",
    "    #force vector\n",
    "    grav_force_s2 = s2_to_s1_dir * mag \n",
    "    \n",
    "    return grav_force_s2"
   ]
  },
  {
   "cell_type": "code",
   "execution_count": null,
   "metadata": {},
   "outputs": [],
   "source": [
    "def slope_function(state, t, system):\n",
    "    s1x, s1y, s1vx, s1vy, s2x, s2y, s2vx, s2vy = state\n",
    "    unpack(system)\n",
    "    \n",
    "    #v = Vector(vx,vy)\n",
    "    \n",
    "    s1_a_grav = universal_gravitation_s1(state, system)/s1m\n",
    "    s2_a_grav = universal_gravitation_s2(state, system)/s2m\n",
    "    \n",
    "    \n",
    "    s1a = s1_a_grav\n",
    "    s2a = s2_a_grav\n",
    "    \n",
    "    return s1vx, s1vy, s1a.x, s1a.y, s2vx, s2vy, s2a.x, s2a.y"
   ]
  },
  {
   "cell_type": "code",
   "execution_count": null,
   "metadata": {},
   "outputs": [],
   "source": [
    "results, details = run_ode_solver(system, slope_function)\n",
    "details"
   ]
  },
  {
   "cell_type": "code",
   "execution_count": null,
   "metadata": {},
   "outputs": [],
   "source": [
    "day = results.index/86400\n",
    "\n",
    "def convert_m(meters):\n",
    "    \n",
    "    #meters to kilometers\n",
    "    km = meters/1000\n",
    "    \n",
    "    #kilometers to million kilometers\n",
    "    Mkm = km/1e6\n",
    "    \n",
    "    return Mkm"
   ]
  },
  {
   "cell_type": "code",
   "execution_count": null,
   "metadata": {},
   "outputs": [],
   "source": [
    "#Zero Initial Velocity\n",
    "plot(day,convert_m(results.s1x), label = 'S1: X postion')\n",
    "plot(day,convert_m(results.s1y), label = 'S1: Y positon')\n",
    "\n",
    "plot(day,convert_m(results.s2x), label = 'S2: X postion')\n",
    "plot(day,convert_m(results.s2y), label = 'S2: Y positon')\n",
    "decorate(title = 'Intitial Velocity = 0m/s',\n",
    "         xlabel='Time (days)',\n",
    "         ylabel='Distance from sun (million km)')"
   ]
  },
  {
   "cell_type": "code",
   "execution_count": null,
   "metadata": {},
   "outputs": [],
   "source": [
    "plot(convert_m(results.s1x),convert_m(results.s1y), label ='Sun 1\\'s Path')\n",
    "plot(convert_m(results.s2x),convert_m(results.s2y), label ='Sun 2\\'s Path')\n",
    "decorate(title = 'Intitial Velocity = -30,300 m/s',\n",
    "         xlabel='Distance from sun (million km)',\n",
    "         ylabel='Distance from sun (million km)')"
   ]
  },
  {
   "cell_type": "code",
   "execution_count": null,
   "metadata": {},
   "outputs": [],
   "source": []
  }
 ],
 "metadata": {
  "kernelspec": {
   "display_name": "Python 3",
   "language": "python",
   "name": "python3"
  },
  "language_info": {
   "codemirror_mode": {
    "name": "ipython",
    "version": 3
   },
   "file_extension": ".py",
   "mimetype": "text/x-python",
   "name": "python",
   "nbconvert_exporter": "python",
   "pygments_lexer": "ipython3",
   "version": "3.6.6"
  }
 },
 "nbformat": 4,
 "nbformat_minor": 2
}
